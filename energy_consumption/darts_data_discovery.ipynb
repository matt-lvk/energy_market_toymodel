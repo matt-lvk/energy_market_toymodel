{
 "cells": [
  {
   "cell_type": "code",
   "execution_count": 2,
   "metadata": {},
   "outputs": [],
   "source": [
    "import numpy as np\n",
    "import plotters as plot\n",
    "import pandas as pd\n",
    "import matplotlib.pyplot as plt\n",
    "from darts import TimeSeries\n",
    "from darts.utils.statistics import check_seasonality,plot_acf,plot_pacf,remove_seasonality,remove_trend,stationarity_test_adf\n",
    "from darts.utils.statistics import extract_trend_and_seasonality\n"
   ]
  },
  {
   "cell_type": "code",
   "execution_count": 3,
   "metadata": {},
   "outputs": [
    {
     "name": "stdout",
     "output_type": "stream",
     "text": [
      "AEP_hourly.csv\n",
      "COMED_hourly.csv\n",
      "DAYTON_hourly.csv\n",
      "DEOK_hourly.csv\n",
      "DOM_hourly.csv\n",
      "DUQ_hourly.csv\n",
      "EKPC_hourly.csv\n",
      "FE_hourly.csv\n",
      "NI_hourly.csv\n",
      "PJME_hourly.csv\n",
      "PJMW_hourly.csv\n",
      "PJM_Load_hourly.csv\n",
      "pjm_hourly_est.csv\n"
     ]
    }
   ],
   "source": [
    "import os\n",
    "\n",
    "list_data = os.listdir('./data')\n",
    "csv_data = [n for n in list_data if n.endswith('.csv')]\n",
    "for csv in sorted(csv_data):\n",
    "    print(csv)\n"
   ]
  },
  {
   "cell_type": "code",
   "execution_count": 4,
   "metadata": {},
   "outputs": [],
   "source": [
    "# def pre_analysis(path: str):\n",
    "#     print(f\"accessing {path}\")\n",
    "#     df1 = pd.read_csv(path, delimiter=',', nrows = 2000)    \n",
    "#     df1.dataframeName = path\n",
    "#     nRow, nCol = df1.shape\n",
    "#     print(f'There are {nRow} rows and {nCol} columns')\n",
    "#     print(df1.head())\n",
    "#     plot.plot_per_column_distributions(df1, 2, 2);\n",
    "\n",
    "\n",
    "# for data in csv_data:\n",
    "#     data_path = './data/' + data\n",
    "#     pre_analysis(data_path)"
   ]
  },
  {
   "cell_type": "markdown",
   "metadata": {},
   "source": [
    "pjme_df.index "
   ]
  },
  {
   "cell_type": "code",
   "execution_count": 5,
   "metadata": {},
   "outputs": [
    {
     "data": {
      "text/html": [
       "<div>\n",
       "<style scoped>\n",
       "    .dataframe tbody tr th:only-of-type {\n",
       "        vertical-align: middle;\n",
       "    }\n",
       "\n",
       "    .dataframe tbody tr th {\n",
       "        vertical-align: top;\n",
       "    }\n",
       "\n",
       "    .dataframe thead th {\n",
       "        text-align: right;\n",
       "    }\n",
       "</style>\n",
       "<table border=\"1\" class=\"dataframe\">\n",
       "  <thead>\n",
       "    <tr style=\"text-align: right;\">\n",
       "      <th></th>\n",
       "      <th>Datetime</th>\n",
       "      <th>PJME_MW</th>\n",
       "    </tr>\n",
       "  </thead>\n",
       "  <tbody>\n",
       "    <tr>\n",
       "      <th>0</th>\n",
       "      <td>2002-12-31 01:00:00</td>\n",
       "      <td>26498.0</td>\n",
       "    </tr>\n",
       "    <tr>\n",
       "      <th>1</th>\n",
       "      <td>2002-12-31 02:00:00</td>\n",
       "      <td>25147.0</td>\n",
       "    </tr>\n",
       "    <tr>\n",
       "      <th>2</th>\n",
       "      <td>2002-12-31 03:00:00</td>\n",
       "      <td>24574.0</td>\n",
       "    </tr>\n",
       "    <tr>\n",
       "      <th>3</th>\n",
       "      <td>2002-12-31 04:00:00</td>\n",
       "      <td>24393.0</td>\n",
       "    </tr>\n",
       "    <tr>\n",
       "      <th>4</th>\n",
       "      <td>2002-12-31 05:00:00</td>\n",
       "      <td>24860.0</td>\n",
       "    </tr>\n",
       "    <tr>\n",
       "      <th>...</th>\n",
       "      <td>...</td>\n",
       "      <td>...</td>\n",
       "    </tr>\n",
       "    <tr>\n",
       "      <th>145361</th>\n",
       "      <td>2018-01-01 20:00:00</td>\n",
       "      <td>44284.0</td>\n",
       "    </tr>\n",
       "    <tr>\n",
       "      <th>145362</th>\n",
       "      <td>2018-01-01 21:00:00</td>\n",
       "      <td>43751.0</td>\n",
       "    </tr>\n",
       "    <tr>\n",
       "      <th>145363</th>\n",
       "      <td>2018-01-01 22:00:00</td>\n",
       "      <td>42402.0</td>\n",
       "    </tr>\n",
       "    <tr>\n",
       "      <th>145364</th>\n",
       "      <td>2018-01-01 23:00:00</td>\n",
       "      <td>40164.0</td>\n",
       "    </tr>\n",
       "    <tr>\n",
       "      <th>145365</th>\n",
       "      <td>2018-01-02 00:00:00</td>\n",
       "      <td>38608.0</td>\n",
       "    </tr>\n",
       "  </tbody>\n",
       "</table>\n",
       "<p>145366 rows × 2 columns</p>\n",
       "</div>"
      ],
      "text/plain": [
       "                  Datetime  PJME_MW\n",
       "0      2002-12-31 01:00:00  26498.0\n",
       "1      2002-12-31 02:00:00  25147.0\n",
       "2      2002-12-31 03:00:00  24574.0\n",
       "3      2002-12-31 04:00:00  24393.0\n",
       "4      2002-12-31 05:00:00  24860.0\n",
       "...                    ...      ...\n",
       "145361 2018-01-01 20:00:00  44284.0\n",
       "145362 2018-01-01 21:00:00  43751.0\n",
       "145363 2018-01-01 22:00:00  42402.0\n",
       "145364 2018-01-01 23:00:00  40164.0\n",
       "145365 2018-01-02 00:00:00  38608.0\n",
       "\n",
       "[145366 rows x 2 columns]"
      ]
     },
     "execution_count": 5,
     "metadata": {},
     "output_type": "execute_result"
    }
   ],
   "source": [
    "pjme_df = pd.read_csv('./data/PJME_hourly.csv', delimiter=',', nrows = None)\n",
    "pjme_df['Datetime'] = pd.to_datetime(pjme_df['Datetime'])\n",
    "# pjme_df.set_index('Datetime', inplace=True)\n",
    "pjme_df"
   ]
  },
  {
   "cell_type": "code",
   "execution_count": 6,
   "metadata": {},
   "outputs": [
    {
     "name": "stdout",
     "output_type": "stream",
     "text": [
      "Number of duplicate datetime entries: 4\n",
      "Sample of duplicate entries:\n",
      "106585   2014-11-02 02:00:00\n",
      "115369   2015-11-01 02:00:00\n",
      "124009   2016-11-06 02:00:00\n",
      "132817   2017-11-05 02:00:00\n",
      "Name: Datetime, dtype: datetime64[ns]\n"
     ]
    }
   ],
   "source": [
    "duplicate_dates = pjme_df['Datetime'][pjme_df['Datetime'].duplicated()]\n",
    "print(f\"Number of duplicate datetime entries: {len(duplicate_dates)}\")\n",
    "print(\"Sample of duplicate entries:\")\n",
    "print(duplicate_dates.head())\n",
    "pjme_df = pjme_df.drop_duplicates(subset='Datetime', keep='last')"
   ]
  },
  {
   "cell_type": "code",
   "execution_count": 7,
   "metadata": {},
   "outputs": [
    {
     "name": "stderr",
     "output_type": "stream",
     "text": [
      "/var/folders/bj/vqft4btx31x4b208qdl7q1nm0000gn/T/ipykernel_4939/1656443103.py:1: SettingWithCopyWarning: \n",
      "A value is trying to be set on a copy of a slice from a DataFrame.\n",
      "Try using .loc[row_indexer,col_indexer] = value instead\n",
      "\n",
      "See the caveats in the documentation: https://pandas.pydata.org/pandas-docs/stable/user_guide/indexing.html#returning-a-view-versus-a-copy\n",
      "  pjme_df['PJME_MW'] = pjme_df['PJME_MW'].astype(np.float32)\n"
     ]
    }
   ],
   "source": [
    "pjme_df['PJME_MW'] = pjme_df['PJME_MW'].astype(np.float32)\n",
    "pjme_sliced_df = pjme_df.loc[pjme_df['Datetime'] >= '2015-01-01']\n"
   ]
  },
  {
   "cell_type": "code",
   "execution_count": 8,
   "metadata": {},
   "outputs": [
    {
     "name": "stderr",
     "output_type": "stream",
     "text": [
      "/Users/matthewliew/.pyenv/versions/3.12.8/lib/python3.12/site-packages/darts/timeseries.py:5248: FutureWarning: 'H' is deprecated and will be removed in a future version, please use 'h' instead.\n",
      "  resampled_time_index = resampled_time_index.asfreq(freq)\n"
     ]
    },
    {
     "data": {
      "image/png": "[encoded data removed]",
      "text/plain": [
       "<Figure size 640x480 with 1 Axes>"
      ]
     },
     "metadata": {},
     "output_type": "display_data"
    }
   ],
   "source": [
    "pjme_ts = TimeSeries.from_dataframe(pjme_sliced_df, 'Datetime', 'PJME_MW', freq='H')\n",
    "\n",
    "\n",
    "train, test = pjme_ts.split_before(0.75)\n",
    "train.plot()\n",
    "test.plot()\n",
    "n_pred = len(test)\n",
    "\n"
   ]
  },
  {
   "cell_type": "code",
   "execution_count": 9,
   "metadata": {},
   "outputs": [
    {
     "name": "stderr",
     "output_type": "stream",
     "text": [
      "/var/folders/bj/vqft4btx31x4b208qdl7q1nm0000gn/T/ipykernel_4939/1428395336.py:5: FutureWarning: DataFrame.fillna with 'method' is deprecated and will raise in a future version. Use obj.ffill() or obj.bfill() instead.\n",
      "  train_df_interpolated = train_df_interpolated.fillna(method='ffill').fillna(method='bfill')\n"
     ]
    },
    {
     "data": {
      "text/html": [
       "<div>\n",
       "<style scoped>\n",
       "    .dataframe tbody tr th:only-of-type {\n",
       "        vertical-align: middle;\n",
       "    }\n",
       "\n",
       "    .dataframe tbody tr th {\n",
       "        vertical-align: top;\n",
       "    }\n",
       "\n",
       "    .dataframe thead th {\n",
       "        text-align: right;\n",
       "    }\n",
       "</style>\n",
       "<table border=\"1\" class=\"dataframe\">\n",
       "  <thead>\n",
       "    <tr style=\"text-align: right;\">\n",
       "      <th>component</th>\n",
       "      <th>PJME_MW</th>\n",
       "    </tr>\n",
       "    <tr>\n",
       "      <th>Datetime</th>\n",
       "      <th></th>\n",
       "    </tr>\n",
       "  </thead>\n",
       "  <tbody>\n",
       "    <tr>\n",
       "      <th>2015-01-01 00:00:00</th>\n",
       "      <td>32802.0</td>\n",
       "    </tr>\n",
       "    <tr>\n",
       "      <th>2015-01-01 01:00:00</th>\n",
       "      <td>31647.0</td>\n",
       "    </tr>\n",
       "    <tr>\n",
       "      <th>2015-01-01 02:00:00</th>\n",
       "      <td>30755.0</td>\n",
       "    </tr>\n",
       "    <tr>\n",
       "      <th>2015-01-01 03:00:00</th>\n",
       "      <td>30189.0</td>\n",
       "    </tr>\n",
       "    <tr>\n",
       "      <th>2015-01-01 04:00:00</th>\n",
       "      <td>29890.0</td>\n",
       "    </tr>\n",
       "    <tr>\n",
       "      <th>...</th>\n",
       "      <td>...</td>\n",
       "    </tr>\n",
       "    <tr>\n",
       "      <th>2017-09-09 07:00:00</th>\n",
       "      <td>21640.0</td>\n",
       "    </tr>\n",
       "    <tr>\n",
       "      <th>2017-09-09 08:00:00</th>\n",
       "      <td>22570.0</td>\n",
       "    </tr>\n",
       "    <tr>\n",
       "      <th>2017-09-09 09:00:00</th>\n",
       "      <td>23949.0</td>\n",
       "    </tr>\n",
       "    <tr>\n",
       "      <th>2017-09-09 10:00:00</th>\n",
       "      <td>24844.0</td>\n",
       "    </tr>\n",
       "    <tr>\n",
       "      <th>2017-09-09 11:00:00</th>\n",
       "      <td>25406.0</td>\n",
       "    </tr>\n",
       "  </tbody>\n",
       "</table>\n",
       "<p>23580 rows × 1 columns</p>\n",
       "</div>"
      ],
      "text/plain": [
       "component            PJME_MW\n",
       "Datetime                    \n",
       "2015-01-01 00:00:00  32802.0\n",
       "2015-01-01 01:00:00  31647.0\n",
       "2015-01-01 02:00:00  30755.0\n",
       "2015-01-01 03:00:00  30189.0\n",
       "2015-01-01 04:00:00  29890.0\n",
       "...                      ...\n",
       "2017-09-09 07:00:00  21640.0\n",
       "2017-09-09 08:00:00  22570.0\n",
       "2017-09-09 09:00:00  23949.0\n",
       "2017-09-09 10:00:00  24844.0\n",
       "2017-09-09 11:00:00  25406.0\n",
       "\n",
       "[23580 rows x 1 columns]"
      ]
     },
     "execution_count": 9,
     "metadata": {},
     "output_type": "execute_result"
    }
   ],
   "source": [
    "train_df = train.to_dataframe()\n",
    "\n",
    "train_df = train_df.sort_index()\n",
    "train_df_interpolated = train_df.interpolate(method='time')\n",
    "train_df_interpolated = train_df_interpolated.fillna(method='ffill').fillna(method='bfill')\n",
    "\n",
    "train_df_interpolated\n",
    "\n",
    "# train = TimeSeries.from_dataframe(train_df_interpolated, 'Datetime', 'PJME_MW', freq='H')\n"
   ]
  },
  {
   "cell_type": "code",
   "execution_count": 10,
   "metadata": {},
   "outputs": [
    {
     "data": {
      "text/plain": [
       "(False, 0)"
      ]
     },
     "execution_count": 10,
     "metadata": {},
     "output_type": "execute_result"
    }
   ],
   "source": [
    "check_seasonality(train)\n",
    "# stationarity_test_adf(train)"
   ]
  },
  {
   "cell_type": "code",
   "execution_count": 11,
   "metadata": {},
   "outputs": [
    {
     "data": {
      "text/plain": [
       "<Axes: xlabel='Datetime'>"
      ]
     },
     "execution_count": 11,
     "metadata": {},
     "output_type": "execute_result"
    },
    {
     "data": {
      "image/png": "[encoded data removed]",
      "text/plain": [
       "<Figure size 640x480 with 1 Axes>"
      ]
     },
     "metadata": {},
     "output_type": "display_data"
    }
   ],
   "source": [
    "from darts.models.forecasting.sf_auto_arima import AutoARIMA\n",
    "\n",
    "model = AutoARIMA()\n",
    "model.fit(train)\n",
    "forecast = model.predict(n_pred)\n",
    "train.plot(label='actual ')\n",
    "forecast.plot()\n"
   ]
  },
  {
   "cell_type": "code",
   "execution_count": 12,
   "metadata": {},
   "outputs": [],
   "source": [
    "def compare(test: TimeSeries, forecast: TimeSeries) -> float: \n",
    "    diff = test - forecast\n",
    "    diff.plot\n",
    "    return np.mean(np.abs(diff))"
   ]
  },
  {
   "cell_type": "code",
   "execution_count": 13,
   "metadata": {},
   "outputs": [
    {
     "name": "stderr",
     "output_type": "stream",
     "text": [
      "/Users/matthewliew/.pyenv/versions/3.12.8/lib/python3.12/site-packages/statsmodels/base/model.py:607: ConvergenceWarning: Maximum Likelihood optimization failed to converge. Check mle_retvals\n",
      "  warnings.warn(\"Maximum Likelihood optimization failed to \"\n"
     ]
    },
    {
     "data": {
      "text/plain": [
       "<Axes: xlabel='Datetime'>"
      ]
     },
     "execution_count": 13,
     "metadata": {},
     "output_type": "execute_result"
    },
    {
     "data": {
      "image/png": "[encoded data removed]",
      "text/plain": [
       "<Figure size 640x480 with 1 Axes>"
      ]
     },
     "metadata": {},
     "output_type": "display_data"
    }
   ],
   "source": [
    "from darts.models import ARIMA\n",
    "\n",
    "model = ARIMA(p=12, d=1, q=2)\n",
    "model.fit(train)\n",
    "pred = model.predict(n=24,series=train)\n",
    "train.plot(label='actual ')\n",
    "pred.plot(label='Forecast')"
   ]
  },
  {
   "cell_type": "code",
   "execution_count": null,
   "metadata": {},
   "outputs": [],
   "source": [
    "pred_df = pred.to_dataframe()\n",
    "test_df = test[:24].to_dataframe()\n",
    "diff =pred_df['PJME_MW'] - test_df['PJME_MW']\n",
    "\n",
    "\n",
    "# - test[:24]"
   ]
  },
  {
   "cell_type": "code",
   "execution_count": 32,
   "metadata": {},
   "outputs": [
    {
     "data": {
      "text/html": [
       "<div>\n",
       "<style scoped>\n",
       "    .dataframe tbody tr th:only-of-type {\n",
       "        vertical-align: middle;\n",
       "    }\n",
       "\n",
       "    .dataframe tbody tr th {\n",
       "        vertical-align: top;\n",
       "    }\n",
       "\n",
       "    .dataframe thead th {\n",
       "        text-align: right;\n",
       "    }\n",
       "</style>\n",
       "<table border=\"1\" class=\"dataframe\">\n",
       "  <thead>\n",
       "    <tr style=\"text-align: right;\">\n",
       "      <th>component</th>\n",
       "      <th>PJME_MW</th>\n",
       "    </tr>\n",
       "    <tr>\n",
       "      <th>Datetime</th>\n",
       "      <th></th>\n",
       "    </tr>\n",
       "  </thead>\n",
       "  <tbody>\n",
       "    <tr>\n",
       "      <th>2017-09-09 12:00:00</th>\n",
       "      <td>25602.0</td>\n",
       "    </tr>\n",
       "    <tr>\n",
       "      <th>2017-09-09 13:00:00</th>\n",
       "      <td>25739.0</td>\n",
       "    </tr>\n",
       "    <tr>\n",
       "      <th>2017-09-09 14:00:00</th>\n",
       "      <td>25791.0</td>\n",
       "    </tr>\n",
       "    <tr>\n",
       "      <th>2017-09-09 15:00:00</th>\n",
       "      <td>25822.0</td>\n",
       "    </tr>\n",
       "    <tr>\n",
       "      <th>2017-09-09 16:00:00</th>\n",
       "      <td>25971.0</td>\n",
       "    </tr>\n",
       "    <tr>\n",
       "      <th>2017-09-09 17:00:00</th>\n",
       "      <td>26240.0</td>\n",
       "    </tr>\n",
       "    <tr>\n",
       "      <th>2017-09-09 18:00:00</th>\n",
       "      <td>26543.0</td>\n",
       "    </tr>\n",
       "    <tr>\n",
       "      <th>2017-09-09 19:00:00</th>\n",
       "      <td>26504.0</td>\n",
       "    </tr>\n",
       "    <tr>\n",
       "      <th>2017-09-09 20:00:00</th>\n",
       "      <td>26932.0</td>\n",
       "    </tr>\n",
       "    <tr>\n",
       "      <th>2017-09-09 21:00:00</th>\n",
       "      <td>27090.0</td>\n",
       "    </tr>\n",
       "    <tr>\n",
       "      <th>2017-09-09 22:00:00</th>\n",
       "      <td>26048.0</td>\n",
       "    </tr>\n",
       "    <tr>\n",
       "      <th>2017-09-09 23:00:00</th>\n",
       "      <td>24511.0</td>\n",
       "    </tr>\n",
       "    <tr>\n",
       "      <th>2017-09-10 00:00:00</th>\n",
       "      <td>22924.0</td>\n",
       "    </tr>\n",
       "    <tr>\n",
       "      <th>2017-09-10 01:00:00</th>\n",
       "      <td>21469.0</td>\n",
       "    </tr>\n",
       "    <tr>\n",
       "      <th>2017-09-10 02:00:00</th>\n",
       "      <td>20521.0</td>\n",
       "    </tr>\n",
       "    <tr>\n",
       "      <th>2017-09-10 03:00:00</th>\n",
       "      <td>19922.0</td>\n",
       "    </tr>\n",
       "    <tr>\n",
       "      <th>2017-09-10 04:00:00</th>\n",
       "      <td>19612.0</td>\n",
       "    </tr>\n",
       "    <tr>\n",
       "      <th>2017-09-10 05:00:00</th>\n",
       "      <td>19558.0</td>\n",
       "    </tr>\n",
       "    <tr>\n",
       "      <th>2017-09-10 06:00:00</th>\n",
       "      <td>19902.0</td>\n",
       "    </tr>\n",
       "    <tr>\n",
       "      <th>2017-09-10 07:00:00</th>\n",
       "      <td>20356.0</td>\n",
       "    </tr>\n",
       "    <tr>\n",
       "      <th>2017-09-10 08:00:00</th>\n",
       "      <td>21000.0</td>\n",
       "    </tr>\n",
       "    <tr>\n",
       "      <th>2017-09-10 09:00:00</th>\n",
       "      <td>22272.0</td>\n",
       "    </tr>\n",
       "    <tr>\n",
       "      <th>2017-09-10 10:00:00</th>\n",
       "      <td>23238.0</td>\n",
       "    </tr>\n",
       "    <tr>\n",
       "      <th>2017-09-10 11:00:00</th>\n",
       "      <td>23871.0</td>\n",
       "    </tr>\n",
       "  </tbody>\n",
       "</table>\n",
       "</div>"
      ],
      "text/plain": [
       "component            PJME_MW\n",
       "Datetime                    \n",
       "2017-09-09 12:00:00  25602.0\n",
       "2017-09-09 13:00:00  25739.0\n",
       "2017-09-09 14:00:00  25791.0\n",
       "2017-09-09 15:00:00  25822.0\n",
       "2017-09-09 16:00:00  25971.0\n",
       "2017-09-09 17:00:00  26240.0\n",
       "2017-09-09 18:00:00  26543.0\n",
       "2017-09-09 19:00:00  26504.0\n",
       "2017-09-09 20:00:00  26932.0\n",
       "2017-09-09 21:00:00  27090.0\n",
       "2017-09-09 22:00:00  26048.0\n",
       "2017-09-09 23:00:00  24511.0\n",
       "2017-09-10 00:00:00  22924.0\n",
       "2017-09-10 01:00:00  21469.0\n",
       "2017-09-10 02:00:00  20521.0\n",
       "2017-09-10 03:00:00  19922.0\n",
       "2017-09-10 04:00:00  19612.0\n",
       "2017-09-10 05:00:00  19558.0\n",
       "2017-09-10 06:00:00  19902.0\n",
       "2017-09-10 07:00:00  20356.0\n",
       "2017-09-10 08:00:00  21000.0\n",
       "2017-09-10 09:00:00  22272.0\n",
       "2017-09-10 10:00:00  23238.0\n",
       "2017-09-10 11:00:00  23871.0"
      ]
     },
     "execution_count": 32,
     "metadata": {},
     "output_type": "execute_result"
    }
   ],
   "source": [
    "test_df"
   ]
  },
  {
   "cell_type": "code",
   "execution_count": 27,
   "metadata": {},
   "outputs": [],
   "source": [
    "# from darts.models import NBEATSModel\n",
    "\n",
    "\n",
    "# model = NBEATSModel(input_chunk_length=24,output_chunk_length=12,n_epochs=5,\n",
    "#                     random_state = 0)\n",
    "# model.fit(train)\n",
    "# pred = model.predict(n=n_pred,series=train)\n",
    "# train.plot(label='actual ')\n",
    "# pred.plot(label='Forecast')\n",
    "\n",
    "\n"
   ]
  },
  {
   "cell_type": "code",
   "execution_count": 28,
   "metadata": {},
   "outputs": [
    {
     "name": "stderr",
     "output_type": "stream",
     "text": [
      "/Users/matthewliew/.pyenv/versions/3.12.8/lib/python3.12/site-packages/darts/timeseries.py:5248: FutureWarning: 'H' is deprecated and will be removed in a future version, please use 'h' instead.\n",
      "  resampled_time_index = resampled_time_index.asfreq(freq)\n"
     ]
    },
    {
     "ename": "TypeError",
     "evalue": "Expected pandas-like dataframe, Polars dataframe, or Polars lazyframe, got: <class 'darts.timeseries.TimeSeries'>",
     "output_type": "error",
     "traceback": [
      "\u001b[0;31m---------------------------------------------------------------------------\u001b[0m",
      "\u001b[0;31mTypeError\u001b[0m                                 Traceback (most recent call last)",
      "Cell \u001b[0;32mIn[28], line 12\u001b[0m\n\u001b[1;32m      9\u001b[0m vic_elec_daily \u001b[38;5;241m=\u001b[39m TimeSeries\u001b[38;5;241m.\u001b[39mfrom_dataframe(pjme_sliced_df, \u001b[38;5;124m'\u001b[39m\u001b[38;5;124mDatetime\u001b[39m\u001b[38;5;124m'\u001b[39m, \u001b[38;5;124m'\u001b[39m\u001b[38;5;124mPJME_MW\u001b[39m\u001b[38;5;124m'\u001b[39m, freq\u001b[38;5;241m=\u001b[39m\u001b[38;5;124m'\u001b[39m\u001b[38;5;124mH\u001b[39m\u001b[38;5;124m'\u001b[39m)\n\u001b[1;32m     11\u001b[0m \u001b[38;5;66;03m# Convert DataFrame to Darts TimeSeries\u001b[39;00m\n\u001b[0;32m---> 12\u001b[0m series \u001b[38;5;241m=\u001b[39m \u001b[43mTimeSeries\u001b[49m\u001b[38;5;241;43m.\u001b[39;49m\u001b[43mfrom_dataframe\u001b[49m\u001b[43m(\u001b[49m\u001b[43mvic_elec_daily\u001b[49m\u001b[43m,\u001b[49m\u001b[43m \u001b[49m\u001b[38;5;124;43m'\u001b[39;49m\u001b[38;5;124;43mdate\u001b[39;49m\u001b[38;5;124;43m'\u001b[39;49m\u001b[43m,\u001b[49m\u001b[43m \u001b[49m\u001b[43m[\u001b[49m\u001b[38;5;124;43m'\u001b[39;49m\u001b[38;5;124;43mDemand\u001b[39;49m\u001b[38;5;124;43m'\u001b[39;49m\u001b[43m,\u001b[49m\u001b[43m \u001b[49m\u001b[38;5;124;43m'\u001b[39;49m\u001b[38;5;124;43mTemperature\u001b[39;49m\u001b[38;5;124;43m'\u001b[39;49m\u001b[43m,\u001b[49m\u001b[43m \u001b[49m\u001b[38;5;124;43m'\u001b[39;49m\u001b[38;5;124;43mDay_Type\u001b[39;49m\u001b[38;5;124;43m'\u001b[39;49m\u001b[43m]\u001b[49m\u001b[43m)\u001b[49m\n\u001b[1;32m     14\u001b[0m \u001b[38;5;66;03m# Create the squared temperature feature\u001b[39;00m\n\u001b[1;32m     15\u001b[0m vic_elec_daily[\u001b[38;5;124m'\u001b[39m\u001b[38;5;124mTemperature_squared\u001b[39m\u001b[38;5;124m'\u001b[39m] \u001b[38;5;241m=\u001b[39m vic_elec_daily[\u001b[38;5;124m'\u001b[39m\u001b[38;5;124mTemperature\u001b[39m\u001b[38;5;124m'\u001b[39m] \u001b[38;5;241m*\u001b[39m\u001b[38;5;241m*\u001b[39m \u001b[38;5;241m2\u001b[39m\n",
      "File \u001b[0;32m~/.pyenv/versions/3.12.8/lib/python3.12/site-packages/darts/timeseries.py:735\u001b[0m, in \u001b[0;36mTimeSeries.from_dataframe\u001b[0;34m(cls, df, time_col, value_cols, fill_missing_dates, freq, fillna_value, static_covariates, hierarchy, metadata)\u001b[0m\n\u001b[1;32m    625\u001b[0m \u001b[38;5;129m@classmethod\u001b[39m\n\u001b[1;32m    626\u001b[0m \u001b[38;5;28;01mdef\u001b[39;00m\u001b[38;5;250m \u001b[39m\u001b[38;5;21mfrom_dataframe\u001b[39m(\n\u001b[1;32m    627\u001b[0m     \u001b[38;5;28mcls\u001b[39m,\n\u001b[0;32m   (...)\u001b[0m\n\u001b[1;32m    636\u001b[0m     metadata: Optional[\u001b[38;5;28mdict\u001b[39m] \u001b[38;5;241m=\u001b[39m \u001b[38;5;28;01mNone\u001b[39;00m,\n\u001b[1;32m    637\u001b[0m ) \u001b[38;5;241m-\u001b[39m\u001b[38;5;241m>\u001b[39m Self:\n\u001b[1;32m    638\u001b[0m \u001b[38;5;250m    \u001b[39m\u001b[38;5;124;03m\"\"\"\u001b[39;00m\n\u001b[1;32m    639\u001b[0m \u001b[38;5;124;03m    Build a deterministic TimeSeries instance built from a selection of columns of a DataFrame.\u001b[39;00m\n\u001b[1;32m    640\u001b[0m \u001b[38;5;124;03m    One column (or the DataFrame index) has to represent the time,\u001b[39;00m\n\u001b[0;32m   (...)\u001b[0m\n\u001b[1;32m    733\u001b[0m \u001b[38;5;124;03m    (3, 1, 1)\u001b[39;00m\n\u001b[1;32m    734\u001b[0m \u001b[38;5;124;03m    \"\"\"\u001b[39;00m\n\u001b[0;32m--> 735\u001b[0m     df \u001b[38;5;241m=\u001b[39m \u001b[43mnw\u001b[49m\u001b[38;5;241;43m.\u001b[39;49m\u001b[43mfrom_native\u001b[49m\u001b[43m(\u001b[49m\u001b[43mdf\u001b[49m\u001b[43m,\u001b[49m\u001b[43m \u001b[49m\u001b[43meager_only\u001b[49m\u001b[38;5;241;43m=\u001b[39;49m\u001b[38;5;28;43;01mTrue\u001b[39;49;00m\u001b[43m,\u001b[49m\u001b[43m \u001b[49m\u001b[43mpass_through\u001b[49m\u001b[38;5;241;43m=\u001b[39;49m\u001b[38;5;28;43;01mFalse\u001b[39;49;00m\u001b[43m)\u001b[49m\n\u001b[1;32m    736\u001b[0m     time_zone \u001b[38;5;241m=\u001b[39m \u001b[38;5;28;01mNone\u001b[39;00m\n\u001b[1;32m    738\u001b[0m     \u001b[38;5;66;03m# get values\u001b[39;00m\n",
      "File \u001b[0;32m~/.pyenv/versions/3.12.8/lib/python3.12/site-packages/narwhals/translate.py:356\u001b[0m, in \u001b[0;36mfrom_native\u001b[0;34m(native_object, strict, pass_through, eager_only, series_only, allow_series, **kwds)\u001b[0m\n\u001b[1;32m    353\u001b[0m     msg \u001b[38;5;241m=\u001b[39m \u001b[38;5;124mf\u001b[39m\u001b[38;5;124m\"\u001b[39m\u001b[38;5;124mfrom_native() got an unexpected keyword argument \u001b[39m\u001b[38;5;132;01m{\u001b[39;00m\u001b[38;5;28mnext\u001b[39m(\u001b[38;5;28miter\u001b[39m(kwds))\u001b[38;5;132;01m!r}\u001b[39;00m\u001b[38;5;124m\"\u001b[39m\n\u001b[1;32m    354\u001b[0m     \u001b[38;5;28;01mraise\u001b[39;00m \u001b[38;5;167;01mTypeError\u001b[39;00m(msg)\n\u001b[0;32m--> 356\u001b[0m \u001b[38;5;28;01mreturn\u001b[39;00m \u001b[43m_from_native_impl\u001b[49m\u001b[43m(\u001b[49m\u001b[43m  \u001b[49m\u001b[38;5;66;43;03m# type: ignore[no-any-return]\u001b[39;49;00m\n\u001b[1;32m    357\u001b[0m \u001b[43m    \u001b[49m\u001b[43mnative_object\u001b[49m\u001b[43m,\u001b[49m\n\u001b[1;32m    358\u001b[0m \u001b[43m    \u001b[49m\u001b[43mpass_through\u001b[49m\u001b[38;5;241;43m=\u001b[39;49m\u001b[43mpass_through\u001b[49m\u001b[43m,\u001b[49m\n\u001b[1;32m    359\u001b[0m \u001b[43m    \u001b[49m\u001b[43meager_only\u001b[49m\u001b[38;5;241;43m=\u001b[39;49m\u001b[43meager_only\u001b[49m\u001b[43m,\u001b[49m\n\u001b[1;32m    360\u001b[0m \u001b[43m    \u001b[49m\u001b[43meager_or_interchange_only\u001b[49m\u001b[38;5;241;43m=\u001b[39;49m\u001b[38;5;28;43;01mFalse\u001b[39;49;00m\u001b[43m,\u001b[49m\n\u001b[1;32m    361\u001b[0m \u001b[43m    \u001b[49m\u001b[43mseries_only\u001b[49m\u001b[38;5;241;43m=\u001b[39;49m\u001b[43mseries_only\u001b[49m\u001b[43m,\u001b[49m\n\u001b[1;32m    362\u001b[0m \u001b[43m    \u001b[49m\u001b[43mallow_series\u001b[49m\u001b[38;5;241;43m=\u001b[39;49m\u001b[43mallow_series\u001b[49m\u001b[43m,\u001b[49m\n\u001b[1;32m    363\u001b[0m \u001b[43m    \u001b[49m\u001b[43mversion\u001b[49m\u001b[38;5;241;43m=\u001b[39;49m\u001b[43mVersion\u001b[49m\u001b[38;5;241;43m.\u001b[39;49m\u001b[43mMAIN\u001b[49m\u001b[43m,\u001b[49m\n\u001b[1;32m    364\u001b[0m \u001b[43m\u001b[49m\u001b[43m)\u001b[49m\n",
      "File \u001b[0;32m~/.pyenv/versions/3.12.8/lib/python3.12/site-packages/narwhals/translate.py:600\u001b[0m, in \u001b[0;36m_from_native_impl\u001b[0;34m(native_object, pass_through, eager_only, eager_or_interchange_only, series_only, allow_series, version)\u001b[0m\n\u001b[1;32m    598\u001b[0m \u001b[38;5;28;01melif\u001b[39;00m \u001b[38;5;129;01mnot\u001b[39;00m pass_through:\n\u001b[1;32m    599\u001b[0m     msg \u001b[38;5;241m=\u001b[39m \u001b[38;5;124mf\u001b[39m\u001b[38;5;124m\"\u001b[39m\u001b[38;5;124mExpected pandas-like dataframe, Polars dataframe, or Polars lazyframe, got: \u001b[39m\u001b[38;5;132;01m{\u001b[39;00m\u001b[38;5;28mtype\u001b[39m(native_object)\u001b[38;5;132;01m}\u001b[39;00m\u001b[38;5;124m\"\u001b[39m\n\u001b[0;32m--> 600\u001b[0m     \u001b[38;5;28;01mraise\u001b[39;00m \u001b[38;5;167;01mTypeError\u001b[39;00m(msg)\n\u001b[1;32m    601\u001b[0m \u001b[38;5;28;01mreturn\u001b[39;00m native_object\n",
      "\u001b[0;31mTypeError\u001b[0m: Expected pandas-like dataframe, Polars dataframe, or Polars lazyframe, got: <class 'darts.timeseries.TimeSeries'>"
     ]
    }
   ],
   "source": [
    "import pandas as pd\n",
    "from darts import TimeSeries\n",
    "from darts.models import ARIMA\n",
    "from darts.dataprocessing.transformers import Scaler\n",
    "\n",
    "# Assuming vic_elec_daily is your pandas DataFrame\n",
    "# First, let's prepare the data\n",
    "\n",
    "vic_elec_daily = TimeSeries.from_dataframe(pjme_sliced_df, 'Datetime', 'PJME_MW', freq='H')\n",
    "\n",
    "# Convert DataFrame to Darts TimeSeries\n",
    "series = TimeSeries.from_dataframe(vic_elec_daily, 'date', ['Demand', 'Temperature', 'Day_Type'])\n",
    "\n",
    "# Create the squared temperature feature\n",
    "vic_elec_daily['Temperature_squared'] = vic_elec_daily['Temperature'] ** 2\n",
    "\n",
    "# Create the weekday feature\n",
    "vic_elec_daily['Is_Weekday'] = (vic_elec_daily['Day_Type'] == 'Weekday').astype(int)\n",
    "\n",
    "# Create covariates TimeSeries\n",
    "covariates = TimeSeries.from_dataframe(vic_elec_daily, 'date', \n",
    "                                       ['Temperature', 'Temperature_squared', 'Is_Weekday'])\n",
    "\n",
    "# Scale the series and covariates\n",
    "scaler_target = Scaler()\n",
    "scaler_covariates = Scaler()\n",
    "series_scaled = scaler_target.fit_transform(series)\n",
    "covariates_scaled = scaler_covariates.fit_transform(covariates)\n",
    "\n",
    "# Create and fit the ARIMA model\n",
    "model = ARIMA(p=1, d=1, q=1)  # You may need to adjust these parameters\n",
    "fit = model.fit(series_scaled, future_covariates=covariates_scaled)\n"
   ]
  },
  {
   "cell_type": "code",
   "execution_count": null,
   "metadata": {},
   "outputs": [],
   "source": []
  }
 ],
 "metadata": {
  "kernelspec": {
   "display_name": "Python 3",
   "language": "python",
   "name": "python3"
  },
  "language_info": {
   "codemirror_mode": {
    "name": "ipython",
    "version": 3
   },
   "file_extension": ".py",
   "mimetype": "text/x-python",
   "name": "python",
   "nbconvert_exporter": "python",
   "pygments_lexer": "ipython3",
   "version": "3.12.8"
  }
 },
 "nbformat": 4,
 "nbformat_minor": 2
}
